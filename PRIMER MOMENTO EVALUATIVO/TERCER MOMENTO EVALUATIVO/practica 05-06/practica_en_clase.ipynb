{
 "cells": [
  {
   "cell_type": "markdown",
   "metadata": {},
   "source": [
    "realiza la conceptualizacion de los siguientes terminosncon su correspondencia ejemplo en codigo usando python y jupiter con librerias opencv y  scikit-image\n",
    "    * transformada Hit-or-Miss\n",
    "        algoritmos de morfologia basada en la transformacion Hit-or-Miss\n",
    "    * Transfromacion geodesicas\n",
    "        dilatacion geodesica\n",
    "        erosion geodesica"
   ]
  },
  {
   "cell_type": "markdown",
   "metadata": {},
   "source": [
    "Transformada Hit-or-Miss\n",
    "La transformada Hit-or-Miss es una operación morfológica utilizada para detectar patrones específicos en una imagen binaria. Consiste en encontrar ubicaciones en la imagen donde una estructura coincida exactamente con el patrón buscado, considerando tanto los píxeles blancos (foreground) como los píxeles negros (background).\n",
    "\n",
    "    * Se usa para detectar un patrón específico en una imagen binaria.\n",
    "    * En el ejemplo, se define una estructura y se aplica hit_or_miss para encontrar coincidencias exactas."
   ]
  },
  {
   "cell_type": "code",
   "execution_count": null,
   "metadata": {},
   "outputs": [],
   "source": [
    "import cv2\n",
    "import numpy as np\n",
    "import matplotlib.pyplot as plt\n",
    "from skimage.morphology import hit_or_miss\n",
    "\n",
    "# Crear una imagen binaria de ejemplo\n",
    "image = np.array([[0, 0, 0, 0, 0],\n",
    "                  [0, 1, 1, 0, 0],\n",
    "                  [0, 1, 0, 0, 0],\n",
    "                  [0, 0, 0, 0, 0],\n",
    "                  [0, 0, 0, 0, 0]], dtype=np.uint8)\n",
    "\n",
    "# Estructuras para hit-or-miss\n",
    "structure1 = np.array([[0, 1, 1],\n",
    "                       [0, 1, 0],\n",
    "                       [0, 0, 0]], dtype=np.uint8)\n",
    "structure2 = np.array([[1, 0, 0],\n",
    "                       [0, 0, 0],\n",
    "                       [0, 0, 0]], dtype=np.uint8)\n",
    "\n",
    "# Aplicar la transformada hit-or-miss\n",
    "hit_or_miss_result = hit_or_miss(image, structure1)\n",
    "\n",
    "plt.figure(figsize=(12, 4))\n",
    "\n",
    "plt.subplot(1, 2, 1)\n",
    "plt.imshow(image, cmap='gray')\n",
    "plt.title('Imagen Original')\n",
    "plt.axis('off')\n",
    "\n",
    "plt.subplot(1, 2, 2)\n",
    "plt.imshow(hit_or_miss_result, cmap='gray')\n",
    "plt.title('Resultado Hit-or-Miss')\n",
    "plt.axis('off')\n",
    "\n",
    "plt.tight_layout()\n",
    "plt.show()\n"
   ]
  },
  {
   "cell_type": "markdown",
   "metadata": {},
   "source": [
    "Transformaciones Geodésicas\n",
    "Las transformaciones geodésicas son operaciones morfológicas que se aplican en función de una máscara. En general, se utilizan para la segmentación de imágenes y otras aplicaciones similares.\n",
    "    * Se basan en una máscara y se usan para operaciones morfológicas más avanzadas.\n",
    "    * Dilatación Geodésica: Expande píxeles foreground hasta una frontera definida por la máscara.\n",
    "    * Erosión Geodésica: Reduce píxeles foreground hasta una frontera definida por la máscara.    "
   ]
  },
  {
   "cell_type": "markdown",
   "metadata": {},
   "source": [
    "Dilatación Geodésica\n",
    "La dilatación geodésica expande los píxeles foreground de una imagen hasta que encuentran una frontera definida por una máscara."
   ]
  },
  {
   "cell_type": "code",
   "execution_count": 5,
   "metadata": {},
   "outputs": [
    {
     "ename": "TypeError",
     "evalue": "dilation() got an unexpected keyword argument 'selem'",
     "output_type": "error",
     "traceback": [
      "\u001b[1;31m---------------------------------------------------------------------------\u001b[0m",
      "\u001b[1;31mTypeError\u001b[0m                                 Traceback (most recent call last)",
      "Cell \u001b[1;32mIn[5], line 23\u001b[0m\n\u001b[0;32m     15\u001b[0m mask \u001b[38;5;241m=\u001b[39m np\u001b[38;5;241m.\u001b[39marray([[\u001b[38;5;241m1\u001b[39m, \u001b[38;5;241m1\u001b[39m, \u001b[38;5;241m1\u001b[39m, \u001b[38;5;241m1\u001b[39m, \u001b[38;5;241m1\u001b[39m, \u001b[38;5;241m1\u001b[39m],\n\u001b[0;32m     16\u001b[0m                  [\u001b[38;5;241m1\u001b[39m, \u001b[38;5;241m1\u001b[39m, \u001b[38;5;241m1\u001b[39m, \u001b[38;5;241m1\u001b[39m, \u001b[38;5;241m1\u001b[39m, \u001b[38;5;241m1\u001b[39m],\n\u001b[0;32m     17\u001b[0m                  [\u001b[38;5;241m1\u001b[39m, \u001b[38;5;241m1\u001b[39m, \u001b[38;5;241m1\u001b[39m, \u001b[38;5;241m1\u001b[39m, \u001b[38;5;241m1\u001b[39m, \u001b[38;5;241m1\u001b[39m],\n\u001b[0;32m     18\u001b[0m                  [\u001b[38;5;241m1\u001b[39m, \u001b[38;5;241m1\u001b[39m, \u001b[38;5;241m1\u001b[39m, \u001b[38;5;241m1\u001b[39m, \u001b[38;5;241m1\u001b[39m, \u001b[38;5;241m1\u001b[39m],\n\u001b[0;32m     19\u001b[0m                  [\u001b[38;5;241m1\u001b[39m, \u001b[38;5;241m1\u001b[39m, \u001b[38;5;241m1\u001b[39m, \u001b[38;5;241m1\u001b[39m, \u001b[38;5;241m1\u001b[39m, \u001b[38;5;241m1\u001b[39m],\n\u001b[0;32m     20\u001b[0m                  [\u001b[38;5;241m1\u001b[39m, \u001b[38;5;241m1\u001b[39m, \u001b[38;5;241m1\u001b[39m, \u001b[38;5;241m1\u001b[39m, \u001b[38;5;241m1\u001b[39m, \u001b[38;5;241m1\u001b[39m]], dtype\u001b[38;5;241m=\u001b[39mnp\u001b[38;5;241m.\u001b[39muint8)\n\u001b[0;32m     22\u001b[0m \u001b[38;5;66;03m# Aplicar dilatación geodésica\u001b[39;00m\n\u001b[1;32m---> 23\u001b[0m dilated_image \u001b[38;5;241m=\u001b[39m \u001b[43mdilation\u001b[49m\u001b[43m(\u001b[49m\u001b[43mimage\u001b[49m\u001b[43m,\u001b[49m\u001b[43m \u001b[49m\u001b[43mselem\u001b[49m\u001b[38;5;241;43m=\u001b[39;49m\u001b[43mnp\u001b[49m\u001b[38;5;241;43m.\u001b[39;49m\u001b[43mones\u001b[49m\u001b[43m(\u001b[49m\u001b[43m(\u001b[49m\u001b[38;5;241;43m3\u001b[39;49m\u001b[43m,\u001b[49m\u001b[43m \u001b[49m\u001b[38;5;241;43m3\u001b[39;49m\u001b[43m)\u001b[49m\u001b[43m)\u001b[49m\u001b[43m)\u001b[49m\n\u001b[0;32m     24\u001b[0m geo_dilated_image \u001b[38;5;241m=\u001b[39m reconstruction(dilated_image, mask, method\u001b[38;5;241m=\u001b[39m\u001b[38;5;124m'\u001b[39m\u001b[38;5;124mdilation\u001b[39m\u001b[38;5;124m'\u001b[39m)\n\u001b[0;32m     26\u001b[0m plt\u001b[38;5;241m.\u001b[39mfigure(figsize\u001b[38;5;241m=\u001b[39m(\u001b[38;5;241m18\u001b[39m, \u001b[38;5;241m6\u001b[39m))\n",
      "File \u001b[1;32mc:\\Users\\nogal\\miniconda3\\envs\\Entorno\\lib\\site-packages\\skimage\\morphology\\misc.py:46\u001b[0m, in \u001b[0;36mdefault_footprint.<locals>.func_out\u001b[1;34m(image, footprint, *args, **kwargs)\u001b[0m\n\u001b[0;32m     44\u001b[0m \u001b[38;5;28;01mif\u001b[39;00m footprint \u001b[38;5;129;01mis\u001b[39;00m \u001b[38;5;28;01mNone\u001b[39;00m:\n\u001b[0;32m     45\u001b[0m     footprint \u001b[38;5;241m=\u001b[39m ndi\u001b[38;5;241m.\u001b[39mgenerate_binary_structure(image\u001b[38;5;241m.\u001b[39mndim, \u001b[38;5;241m1\u001b[39m)\n\u001b[1;32m---> 46\u001b[0m \u001b[38;5;28;01mreturn\u001b[39;00m func(image, footprint\u001b[38;5;241m=\u001b[39mfootprint, \u001b[38;5;241m*\u001b[39margs, \u001b[38;5;241m*\u001b[39m\u001b[38;5;241m*\u001b[39mkwargs)\n",
      "\u001b[1;31mTypeError\u001b[0m: dilation() got an unexpected keyword argument 'selem'"
     ]
    }
   ],
   "source": [
    "import cv2\n",
    "import numpy as np\n",
    "import matplotlib.pyplot as plt\n",
    "from skimage.morphology import dilation, erosion, reconstruction\n",
    "\n",
    "# Crear una imagen binaria de ejemplo\n",
    "image = np.array([[0, 0, 0, 0, 0, 0],\n",
    "                  [0, 1, 1, 0, 0, 0],\n",
    "                  [0, 1, 0, 0, 0, 0],\n",
    "                  [0, 0, 0, 1, 1, 0],\n",
    "                  [0, 0, 0, 1, 1, 0],\n",
    "                  [0, 0, 0, 0, 0, 0]], dtype=np.uint8)\n",
    "\n",
    "# Crear una máscara de ejemplo\n",
    "mask = np.array([[1, 1, 1, 1, 1, 1],\n",
    "                 [1, 1, 1, 1, 1, 1],\n",
    "                 [1, 1, 1, 1, 1, 1],\n",
    "                 [1, 1, 1, 1, 1, 1],\n",
    "                 [1, 1, 1, 1, 1, 1],\n",
    "                 [1, 1, 1, 1, 1, 1]], dtype=np.uint8)\n",
    "\n",
    "# Aplicar dilatación geodésica\n",
    "dilated_image = dilation(image, selem=np.ones((3, 3)))\n",
    "geo_dilated_image = reconstruction(dilated_image, mask, method='dilation')\n",
    "\n",
    "plt.figure(figsize=(18, 6))\n",
    "\n",
    "plt.subplot(1, 3, 1)\n",
    "plt.imshow(image, cmap='gray')\n",
    "plt.title('Imagen Original')\n",
    "plt.axis('off')\n",
    "\n",
    "plt.subplot(1, 3, 2)\n",
    "plt.imshow(dilated_image, cmap='gray')\n",
    "plt.title('Dilatación Regular')\n",
    "plt.axis('off')\n",
    "\n",
    "plt.subplot(1, 3, 3)\n",
    "plt.imshow(geo_dilated_image, cmap='gray')\n",
    "plt.title('Dilatación Geodésica')\n",
    "plt.axis('off')\n",
    "\n",
    "plt.tight_layout()\n",
    "plt.show()\n"
   ]
  },
  {
   "cell_type": "markdown",
   "metadata": {},
   "source": [
    "Erosión Geodésica\n",
    "La erosión geodésica reduce los píxeles foreground de una imagen hasta que encuentran una frontera definida por una máscara."
   ]
  },
  {
   "cell_type": "code",
   "execution_count": 1,
   "metadata": {},
   "outputs": [
    {
     "ename": "TypeError",
     "evalue": "erosion() got an unexpected keyword argument 'selem'",
     "output_type": "error",
     "traceback": [
      "\u001b[1;31m---------------------------------------------------------------------------\u001b[0m",
      "\u001b[1;31mTypeError\u001b[0m                                 Traceback (most recent call last)",
      "Cell \u001b[1;32mIn[1], line 23\u001b[0m\n\u001b[0;32m     15\u001b[0m mask \u001b[38;5;241m=\u001b[39m np\u001b[38;5;241m.\u001b[39marray([[\u001b[38;5;241m0\u001b[39m, \u001b[38;5;241m0\u001b[39m, \u001b[38;5;241m0\u001b[39m, \u001b[38;5;241m0\u001b[39m, \u001b[38;5;241m0\u001b[39m, \u001b[38;5;241m0\u001b[39m],\n\u001b[0;32m     16\u001b[0m                  [\u001b[38;5;241m0\u001b[39m, \u001b[38;5;241m1\u001b[39m, \u001b[38;5;241m1\u001b[39m, \u001b[38;5;241m0\u001b[39m, \u001b[38;5;241m0\u001b[39m, \u001b[38;5;241m0\u001b[39m],\n\u001b[0;32m     17\u001b[0m                  [\u001b[38;5;241m0\u001b[39m, \u001b[38;5;241m1\u001b[39m, \u001b[38;5;241m0\u001b[39m, \u001b[38;5;241m0\u001b[39m, \u001b[38;5;241m0\u001b[39m, \u001b[38;5;241m0\u001b[39m],\n\u001b[0;32m     18\u001b[0m                  [\u001b[38;5;241m0\u001b[39m, \u001b[38;5;241m0\u001b[39m, \u001b[38;5;241m0\u001b[39m, \u001b[38;5;241m1\u001b[39m, \u001b[38;5;241m1\u001b[39m, \u001b[38;5;241m0\u001b[39m],\n\u001b[0;32m     19\u001b[0m                  [\u001b[38;5;241m0\u001b[39m, \u001b[38;5;241m0\u001b[39m, \u001b[38;5;241m0\u001b[39m, \u001b[38;5;241m1\u001b[39m, \u001b[38;5;241m1\u001b[39m, \u001b[38;5;241m0\u001b[39m],\n\u001b[0;32m     20\u001b[0m                  [\u001b[38;5;241m0\u001b[39m, \u001b[38;5;241m0\u001b[39m, \u001b[38;5;241m0\u001b[39m, \u001b[38;5;241m0\u001b[39m, \u001b[38;5;241m0\u001b[39m, \u001b[38;5;241m0\u001b[39m]], dtype\u001b[38;5;241m=\u001b[39mnp\u001b[38;5;241m.\u001b[39muint8)\n\u001b[0;32m     22\u001b[0m \u001b[38;5;66;03m# Aplicar erosión geodésica\u001b[39;00m\n\u001b[1;32m---> 23\u001b[0m eroded_image \u001b[38;5;241m=\u001b[39m \u001b[43merosion\u001b[49m\u001b[43m(\u001b[49m\u001b[43mimage\u001b[49m\u001b[43m,\u001b[49m\u001b[43m \u001b[49m\u001b[43mselem\u001b[49m\u001b[38;5;241;43m=\u001b[39;49m\u001b[43mnp\u001b[49m\u001b[38;5;241;43m.\u001b[39;49m\u001b[43mones\u001b[49m\u001b[43m(\u001b[49m\u001b[43m(\u001b[49m\u001b[38;5;241;43m3\u001b[39;49m\u001b[43m,\u001b[49m\u001b[43m \u001b[49m\u001b[38;5;241;43m3\u001b[39;49m\u001b[43m)\u001b[49m\u001b[43m)\u001b[49m\u001b[43m)\u001b[49m\n\u001b[0;32m     24\u001b[0m geo_eroded_image \u001b[38;5;241m=\u001b[39m reconstruction(eroded_image, mask, method\u001b[38;5;241m=\u001b[39m\u001b[38;5;124m'\u001b[39m\u001b[38;5;124merosion\u001b[39m\u001b[38;5;124m'\u001b[39m)\n\u001b[0;32m     26\u001b[0m plt\u001b[38;5;241m.\u001b[39mfigure(figsize\u001b[38;5;241m=\u001b[39m(\u001b[38;5;241m18\u001b[39m, \u001b[38;5;241m6\u001b[39m))\n",
      "File \u001b[1;32mc:\\Users\\nogal\\miniconda3\\envs\\Entorno\\lib\\site-packages\\skimage\\morphology\\misc.py:46\u001b[0m, in \u001b[0;36mdefault_footprint.<locals>.func_out\u001b[1;34m(image, footprint, *args, **kwargs)\u001b[0m\n\u001b[0;32m     44\u001b[0m \u001b[38;5;28;01mif\u001b[39;00m footprint \u001b[38;5;129;01mis\u001b[39;00m \u001b[38;5;28;01mNone\u001b[39;00m:\n\u001b[0;32m     45\u001b[0m     footprint \u001b[38;5;241m=\u001b[39m ndi\u001b[38;5;241m.\u001b[39mgenerate_binary_structure(image\u001b[38;5;241m.\u001b[39mndim, \u001b[38;5;241m1\u001b[39m)\n\u001b[1;32m---> 46\u001b[0m \u001b[38;5;28;01mreturn\u001b[39;00m func(image, footprint\u001b[38;5;241m=\u001b[39mfootprint, \u001b[38;5;241m*\u001b[39margs, \u001b[38;5;241m*\u001b[39m\u001b[38;5;241m*\u001b[39mkwargs)\n",
      "\u001b[1;31mTypeError\u001b[0m: erosion() got an unexpected keyword argument 'selem'"
     ]
    }
   ],
   "source": [
    "import cv2\n",
    "import numpy as np\n",
    "import matplotlib.pyplot as plt\n",
    "from skimage.morphology import erosion, reconstruction\n",
    "\n",
    "# Crear una imagen binaria de ejemplo\n",
    "image = np.array([[0, 0, 0, 0, 0, 0],\n",
    "                  [0, 1, 1, 0, 0, 0],\n",
    "                  [0, 1, 0, 0, 0, 0],\n",
    "                  [0, 0, 0, 1, 1, 0],\n",
    "                  [0, 0, 0, 1, 1, 0],\n",
    "                  [0, 0, 0, 0, 0, 0]], dtype=np.uint8)\n",
    "\n",
    "# Crear una máscara de ejemplo\n",
    "mask = np.array([[0, 0, 0, 0, 0, 0],\n",
    "                 [0, 1, 1, 0, 0, 0],\n",
    "                 [0, 1, 0, 0, 0, 0],\n",
    "                 [0, 0, 0, 1, 1, 0],\n",
    "                 [0, 0, 0, 1, 1, 0],\n",
    "                 [0, 0, 0, 0, 0, 0]], dtype=np.uint8)\n",
    "\n",
    "# Aplicar erosión geodésica\n",
    "eroded_image = erosion(image, selem=np.ones((3, 3)))\n",
    "geo_eroded_image = reconstruction(eroded_image, mask, method='erosion')\n",
    "\n",
    "plt.figure(figsize=(18, 6))\n",
    "\n",
    "plt.subplot(1, 3, 1)\n",
    "plt.imshow(image, cmap='gray')\n",
    "plt.title('Imagen Original')\n",
    "plt.axis('off')\n",
    "\n",
    "plt.subplot(1, 3, 2)\n",
    "plt.imshow(eroded_image, cmap='gray')\n",
    "plt.title('Erosión Regular')\n",
    "plt.axis('off')\n",
    "\n",
    "plt.subplot(1, 3, 3)\n",
    "plt.imshow(geo_eroded_image, cmap='gray')\n",
    "plt.title('Erosión Geodésica')\n",
    "plt.axis('off')\n",
    "\n",
    "plt.tight_layout()\n",
    "plt.show()\n"
   ]
  }
 ],
 "metadata": {
  "kernelspec": {
   "display_name": "Entorno",
   "language": "python",
   "name": "python3"
  },
  "language_info": {
   "codemirror_mode": {
    "name": "ipython",
    "version": 3
   },
   "file_extension": ".py",
   "mimetype": "text/x-python",
   "name": "python",
   "nbconvert_exporter": "python",
   "pygments_lexer": "ipython3",
   "version": "3.10.14"
  }
 },
 "nbformat": 4,
 "nbformat_minor": 2
}
